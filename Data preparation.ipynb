{
 "cells": [
  {
   "cell_type": "code",
   "execution_count": null,
   "id": "e3c817f2",
   "metadata": {},
   "outputs": [],
   "source": [
    "import numpy as np\n",
    "import pandas as pd"
   ]
  },
  {
   "cell_type": "code",
   "execution_count": null,
   "id": "af0a7969",
   "metadata": {},
   "outputs": [],
   "source": [
    "df_smiles = pd.read_csv(\"main_dataset_2.csv\")\n",
    "df_smiles.rename(columns={'SMILES': 'SMILES', 'IC50(nM)': 'IC50'}, inplace=True)"
   ]
  },
  {
   "cell_type": "code",
   "execution_count": null,
   "id": "ae3a673c",
   "metadata": {},
   "outputs": [],
   "source": [
    "df_smiles = df_smiles[df_smiles['IC50'] != 'Not active'].copy()"
   ]
  },
  {
   "cell_type": "code",
   "execution_count": null,
   "id": "9354a9a9",
   "metadata": {},
   "outputs": [],
   "source": [
    "def convert_to_micro(value):\n",
    "    # Check if the value is a string\n",
    "    if isinstance(value, str):\n",
    "        value = value.strip()  # Remove whitespace\n",
    "        if value.startswith(\">\") or value.startswith(\"<\"):\n",
    "            # Extract numeric part, convert to float, divide by 1000, and reattach the symbol\n",
    "            return value[0] + str(float(value[1:]) / 1000)\n",
    "        else:\n",
    "            # Try to convert to float for plain numbers\n",
    "            try:\n",
    "                return str(float(value) / 1000)\n",
    "            except ValueError:\n",
    "                return value  # Return as-is if not convertible\n",
    "    # If it's numeric, directly convert\n",
    "    elif isinstance(value, (int, float)):\n",
    "        return value / 1000\n",
    "    # Return as-is for unexpected formats\n",
    "    return value\n",
    "\n",
    "# Apply the conversion function to the ic50 column\n",
    "df_smiles['IC50'] = df_smiles['IC50'].apply(convert_to_micro)"
   ]
  },
  {
   "cell_type": "code",
   "execution_count": null,
   "id": "fcab17f6",
   "metadata": {},
   "outputs": [],
   "source": [
    "def encode_ic50(value, threshold):\n",
    "    \"\"\"\n",
    "    Encodes IC50 values into categories: 'hERG Blocker', 'Non Blocker', or None.\n",
    "\n",
    "    Parameters:\n",
    "    value (str or numeric): IC50 value to categorize.\n",
    "    threshold: inactivity threshold to classify as herg blocker or non blocker\n",
    "\n",
    "    Returns:\n",
    "    str or None: Categorized result ('hERG Blocker', 'Non Blocker', or None).\n",
    "    \"\"\"\n",
    "    # Check if the value is a string\n",
    "    if isinstance(value, str):\n",
    "        value = value.strip()  # Remove any leading/trailing whitespace\n",
    "        if value.startswith(\">\"):\n",
    "            try:\n",
    "                numeric_value = float(value[1:])  # Remove '>' and convert to float\n",
    "                return 'Non Blocker'\n",
    "            except ValueError:\n",
    "                return None\n",
    "        elif value.startswith(\"<\"):\n",
    "            try:\n",
    "                numeric_value = float(value[1:])  # Remove '<' and convert to float\n",
    "                return 'hERG Blocker'\n",
    "            except ValueError:\n",
    "                return None\n",
    "        else:\n",
    "            # Try to convert to float if it's a plain number in string format\n",
    "            try:\n",
    "                numeric_value = float(value)\n",
    "                if numeric_value <= 10:\n",
    "                    return 'hERG Blocker'\n",
    "                elif numeric_value >= threshold:\n",
    "                    return 'Non Blocker'\n",
    "                else:\n",
    "                    return None  # Discard other values\n",
    "            except ValueError:\n",
    "                return None  # Handle unexpected formats\n",
    "    # Handle numeric input directly\n",
    "    elif isinstance(value, (int, float)):\n",
    "        if value <= 10:\n",
    "            return 'hERG Blocker'\n",
    "        elif value >= threshold:\n",
    "            return 'Non Blocker'\n",
    "        else:\n",
    "            return None  # Discard other values\n",
    "    # Return None for unsupported types\n",
    "    return None\n",
    "\n",
    "# Apply the function to create a new column\n",
    "df_smiles['IC50'] = df_smiles['IC50'].apply(lambda x: encode_ic50(x, threshold))"
   ]
  },
  {
   "cell_type": "code",
   "execution_count": null,
   "id": "2e0be1ab",
   "metadata": {},
   "outputs": [],
   "source": [
    "# Check for duplicates in the 'SMILES' column\n",
    "duplicates = df_smiles[df_smiles.duplicated(subset='SMILES', keep=False)]  # Show all duplicates\n",
    "if not duplicates.empty:\n",
    "    print(\"Duplicate rows based on 'SMILES' column:\")\n",
    "    print(duplicates)\n",
    "else:\n",
    "    print(\"No duplicates found in the 'SMILES' column.\")\n",
    "df_smiles = df_smiles.dropna(subset=[\"IC50\"])"
   ]
  }
 ],
 "metadata": {
  "kernelspec": {
   "display_name": "Python (new_env)",
   "language": "python",
   "name": "new_env"
  },
  "language_info": {
   "codemirror_mode": {
    "name": "ipython",
    "version": 3
   },
   "file_extension": ".py",
   "mimetype": "text/x-python",
   "name": "python",
   "nbconvert_exporter": "python",
   "pygments_lexer": "ipython3",
   "version": "3.10.15"
  }
 },
 "nbformat": 4,
 "nbformat_minor": 5
}
